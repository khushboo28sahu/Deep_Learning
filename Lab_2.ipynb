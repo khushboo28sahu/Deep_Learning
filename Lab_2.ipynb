{
  "nbformat": 4,
  "nbformat_minor": 0,
  "metadata": {
    "colab": {
      "name": "Lab 2.ipynb",
      "provenance": [],
      "authorship_tag": "ABX9TyP7M9L5XjtHOzGG8QgDMWPt",
      "include_colab_link": true
    },
    "kernelspec": {
      "name": "python3",
      "display_name": "Python 3"
    },
    "language_info": {
      "name": "python"
    }
  },
  "cells": [
    {
      "cell_type": "markdown",
      "metadata": {
        "id": "view-in-github",
        "colab_type": "text"
      },
      "source": [
        "<a href=\"https://colab.research.google.com/github/khushboo28sahu/Deep_Learning/blob/main/Lab_2.ipynb\" target=\"_parent\"><img src=\"https://colab.research.google.com/assets/colab-badge.svg\" alt=\"Open In Colab\"/></a>"
      ]
    },
    {
      "cell_type": "code",
      "execution_count": 1,
      "metadata": {
        "id": "IEdesyaeOTwv"
      },
      "outputs": [],
      "source": [
        "# MLP with manual validation set\n",
        "from keras.models import Sequential\n",
        "from keras.layers import Dense\n",
        "from sklearn.model_selection import train_test_split\n",
        "import numpy\n"
      ]
    },
    {
      "cell_type": "code",
      "source": [
        "# fix random seed for reproducibility\n",
        "seed = 7\n",
        "numpy.random.seed(seed)\n"
      ],
      "metadata": {
        "id": "305XFPHKOlEV"
      },
      "execution_count": 5,
      "outputs": []
    },
    {
      "cell_type": "code",
      "source": [
        "from google.colab import drive\n",
        "drive.mount('/content/drive')\n"
      ],
      "metadata": {
        "colab": {
          "base_uri": "https://localhost:8080/"
        },
        "id": "9QjkdwBdPG7w",
        "outputId": "e3dda2fc-bbb4-43d7-b22e-dbc1e066d87d"
      },
      "execution_count": 10,
      "outputs": [
        {
          "output_type": "stream",
          "name": "stdout",
          "text": [
            "Drive already mounted at /content/drive; to attempt to forcibly remount, call drive.mount(\"/content/drive\", force_remount=True).\n"
          ]
        }
      ]
    },
    {
      "cell_type": "code",
      "source": [
        "\n",
        "# load pima indians dataset\n",
        "dataset = numpy.loadtxt(\"/content/drive/MyDrive/Git_Repository/Deep_Learning/pima-indians-diabetes.csv\", delimiter=\",\")\n"
      ],
      "metadata": {
        "id": "ZfuU4hggOpTU"
      },
      "execution_count": 11,
      "outputs": []
    },
    {
      "cell_type": "code",
      "source": [
        "# split into input (X) and output (Y) variables\n",
        "X = dataset[:,0:8]\n",
        "Y = dataset[:,8]\n"
      ],
      "metadata": {
        "id": "32bf-dK-Orkm"
      },
      "execution_count": 12,
      "outputs": []
    },
    {
      "cell_type": "code",
      "source": [
        "# split into 67% for train and 33% for test\n",
        "X_train, X_test, y_train, y_test = train_test_split(X, Y, test_size=0.33, random_state=seed)\n"
      ],
      "metadata": {
        "id": "c8xj97uoOtl0"
      },
      "execution_count": 13,
      "outputs": []
    },
    {
      "cell_type": "code",
      "source": [
        "# create model\n",
        "model = Sequential()\n",
        "model.add(Dense(12, input_dim=8, activation='relu'))\n",
        "model.add(Dense(8, activation='relu'))\n",
        "model.add(Dense(1, activation='sigmoid'))\n"
      ],
      "metadata": {
        "id": "jTmmY7kNOvzg"
      },
      "execution_count": 14,
      "outputs": []
    },
    {
      "cell_type": "code",
      "source": [
        "# Compile model\n",
        "model.compile(loss='binary_crossentropy', optimizer='adam', metrics=['accuracy'])\n"
      ],
      "metadata": {
        "id": "wFN-RzwAOy-_"
      },
      "execution_count": 15,
      "outputs": []
    },
    {
      "cell_type": "code",
      "source": [
        "# Fit the model\n",
        "model.fit(X_train, y_train, validation_data=(X_test,y_test), epochs=150, batch_size=10)"
      ],
      "metadata": {
        "colab": {
          "base_uri": "https://localhost:8080/"
        },
        "id": "T8thswklO3FK",
        "outputId": "53f600ef-eb8b-40ef-d608-558d85217967"
      },
      "execution_count": 16,
      "outputs": [
        {
          "output_type": "stream",
          "name": "stdout",
          "text": [
            "Epoch 1/150\n",
            "52/52 [==============================] - 1s 6ms/step - loss: 21.1963 - accuracy: 0.4183 - val_loss: 6.4402 - val_accuracy: 0.5472\n",
            "Epoch 2/150\n",
            "52/52 [==============================] - 0s 2ms/step - loss: 4.2151 - accuracy: 0.5992 - val_loss: 3.3586 - val_accuracy: 0.6181\n",
            "Epoch 3/150\n",
            "52/52 [==============================] - 0s 2ms/step - loss: 2.7841 - accuracy: 0.6206 - val_loss: 2.3989 - val_accuracy: 0.6299\n",
            "Epoch 4/150\n",
            "52/52 [==============================] - 0s 3ms/step - loss: 1.9950 - accuracy: 0.6265 - val_loss: 1.6759 - val_accuracy: 0.6142\n",
            "Epoch 5/150\n",
            "52/52 [==============================] - 0s 2ms/step - loss: 1.4659 - accuracy: 0.6109 - val_loss: 1.3101 - val_accuracy: 0.5866\n",
            "Epoch 6/150\n",
            "52/52 [==============================] - 0s 3ms/step - loss: 1.2430 - accuracy: 0.5623 - val_loss: 1.1500 - val_accuracy: 0.5236\n",
            "Epoch 7/150\n",
            "52/52 [==============================] - 0s 2ms/step - loss: 1.1112 - accuracy: 0.5097 - val_loss: 1.0829 - val_accuracy: 0.5197\n",
            "Epoch 8/150\n",
            "52/52 [==============================] - 0s 3ms/step - loss: 1.0462 - accuracy: 0.5623 - val_loss: 1.0293 - val_accuracy: 0.5709\n",
            "Epoch 9/150\n",
            "52/52 [==============================] - 0s 2ms/step - loss: 0.9634 - accuracy: 0.5700 - val_loss: 0.9834 - val_accuracy: 0.5512\n",
            "Epoch 10/150\n",
            "52/52 [==============================] - 0s 2ms/step - loss: 0.8807 - accuracy: 0.5798 - val_loss: 0.9299 - val_accuracy: 0.5630\n",
            "Epoch 11/150\n",
            "52/52 [==============================] - 0s 3ms/step - loss: 0.8472 - accuracy: 0.5992 - val_loss: 0.8864 - val_accuracy: 0.5591\n",
            "Epoch 12/150\n",
            "52/52 [==============================] - 0s 3ms/step - loss: 0.8111 - accuracy: 0.5914 - val_loss: 0.8739 - val_accuracy: 0.5787\n",
            "Epoch 13/150\n",
            "52/52 [==============================] - 0s 3ms/step - loss: 0.7889 - accuracy: 0.6089 - val_loss: 0.8207 - val_accuracy: 0.6063\n",
            "Epoch 14/150\n",
            "52/52 [==============================] - 0s 2ms/step - loss: 0.7659 - accuracy: 0.6362 - val_loss: 0.8014 - val_accuracy: 0.5945\n",
            "Epoch 15/150\n",
            "52/52 [==============================] - 0s 2ms/step - loss: 0.7651 - accuracy: 0.6323 - val_loss: 0.8021 - val_accuracy: 0.6102\n",
            "Epoch 16/150\n",
            "52/52 [==============================] - 0s 3ms/step - loss: 0.7448 - accuracy: 0.6459 - val_loss: 0.7780 - val_accuracy: 0.6063\n",
            "Epoch 17/150\n",
            "52/52 [==============================] - 0s 3ms/step - loss: 0.7294 - accuracy: 0.6323 - val_loss: 0.7692 - val_accuracy: 0.6102\n",
            "Epoch 18/150\n",
            "52/52 [==============================] - 0s 3ms/step - loss: 0.7127 - accuracy: 0.6440 - val_loss: 0.7405 - val_accuracy: 0.5906\n",
            "Epoch 19/150\n",
            "52/52 [==============================] - 0s 2ms/step - loss: 0.7147 - accuracy: 0.6265 - val_loss: 0.7535 - val_accuracy: 0.6299\n",
            "Epoch 20/150\n",
            "52/52 [==============================] - 0s 3ms/step - loss: 0.7125 - accuracy: 0.6498 - val_loss: 0.7382 - val_accuracy: 0.6102\n",
            "Epoch 21/150\n",
            "52/52 [==============================] - 0s 3ms/step - loss: 0.7007 - accuracy: 0.6634 - val_loss: 0.7388 - val_accuracy: 0.6220\n",
            "Epoch 22/150\n",
            "52/52 [==============================] - 0s 2ms/step - loss: 0.6936 - accuracy: 0.6518 - val_loss: 0.7222 - val_accuracy: 0.5906\n",
            "Epoch 23/150\n",
            "52/52 [==============================] - 0s 2ms/step - loss: 0.7054 - accuracy: 0.6187 - val_loss: 0.7157 - val_accuracy: 0.6339\n",
            "Epoch 24/150\n",
            "52/52 [==============================] - 0s 3ms/step - loss: 0.6873 - accuracy: 0.6595 - val_loss: 0.7275 - val_accuracy: 0.6496\n",
            "Epoch 25/150\n",
            "52/52 [==============================] - 0s 2ms/step - loss: 0.6824 - accuracy: 0.6595 - val_loss: 0.7100 - val_accuracy: 0.6220\n",
            "Epoch 26/150\n",
            "52/52 [==============================] - 0s 2ms/step - loss: 0.6765 - accuracy: 0.6634 - val_loss: 0.7160 - val_accuracy: 0.6339\n",
            "Epoch 27/150\n",
            "52/52 [==============================] - 0s 2ms/step - loss: 0.6750 - accuracy: 0.6479 - val_loss: 0.7251 - val_accuracy: 0.6457\n",
            "Epoch 28/150\n",
            "52/52 [==============================] - 0s 3ms/step - loss: 0.6665 - accuracy: 0.6673 - val_loss: 0.7246 - val_accuracy: 0.6417\n",
            "Epoch 29/150\n",
            "52/52 [==============================] - 0s 2ms/step - loss: 0.6675 - accuracy: 0.6693 - val_loss: 0.7043 - val_accuracy: 0.6457\n",
            "Epoch 30/150\n",
            "52/52 [==============================] - 0s 2ms/step - loss: 0.6621 - accuracy: 0.6770 - val_loss: 0.6961 - val_accuracy: 0.6496\n",
            "Epoch 31/150\n",
            "52/52 [==============================] - 0s 3ms/step - loss: 0.6557 - accuracy: 0.6770 - val_loss: 0.6913 - val_accuracy: 0.6496\n",
            "Epoch 32/150\n",
            "52/52 [==============================] - 0s 2ms/step - loss: 0.6587 - accuracy: 0.6751 - val_loss: 0.6830 - val_accuracy: 0.6457\n",
            "Epoch 33/150\n",
            "52/52 [==============================] - 0s 2ms/step - loss: 0.6593 - accuracy: 0.6693 - val_loss: 0.6761 - val_accuracy: 0.6378\n",
            "Epoch 34/150\n",
            "52/52 [==============================] - 0s 2ms/step - loss: 0.6519 - accuracy: 0.6732 - val_loss: 0.6592 - val_accuracy: 0.6457\n",
            "Epoch 35/150\n",
            "52/52 [==============================] - 0s 3ms/step - loss: 0.6416 - accuracy: 0.6829 - val_loss: 0.6953 - val_accuracy: 0.6496\n",
            "Epoch 36/150\n",
            "52/52 [==============================] - 0s 3ms/step - loss: 0.6374 - accuracy: 0.6829 - val_loss: 0.6743 - val_accuracy: 0.6575\n",
            "Epoch 37/150\n",
            "52/52 [==============================] - 0s 2ms/step - loss: 0.6442 - accuracy: 0.6809 - val_loss: 0.6748 - val_accuracy: 0.6575\n",
            "Epoch 38/150\n",
            "52/52 [==============================] - 0s 3ms/step - loss: 0.6419 - accuracy: 0.6790 - val_loss: 0.6547 - val_accuracy: 0.6535\n",
            "Epoch 39/150\n",
            "52/52 [==============================] - 0s 3ms/step - loss: 0.6319 - accuracy: 0.6693 - val_loss: 0.6646 - val_accuracy: 0.6496\n",
            "Epoch 40/150\n",
            "52/52 [==============================] - 0s 3ms/step - loss: 0.6412 - accuracy: 0.6848 - val_loss: 0.6659 - val_accuracy: 0.6575\n",
            "Epoch 41/150\n",
            "52/52 [==============================] - 0s 2ms/step - loss: 0.6427 - accuracy: 0.6790 - val_loss: 0.6722 - val_accuracy: 0.6417\n",
            "Epoch 42/150\n",
            "52/52 [==============================] - 0s 2ms/step - loss: 0.6335 - accuracy: 0.6848 - val_loss: 0.6485 - val_accuracy: 0.6457\n",
            "Epoch 43/150\n",
            "52/52 [==============================] - 0s 3ms/step - loss: 0.6238 - accuracy: 0.6809 - val_loss: 0.6598 - val_accuracy: 0.6535\n",
            "Epoch 44/150\n",
            "52/52 [==============================] - 0s 2ms/step - loss: 0.6367 - accuracy: 0.6712 - val_loss: 0.6662 - val_accuracy: 0.6575\n",
            "Epoch 45/150\n",
            "52/52 [==============================] - 0s 3ms/step - loss: 0.6379 - accuracy: 0.6790 - val_loss: 0.6778 - val_accuracy: 0.6614\n",
            "Epoch 46/150\n",
            "52/52 [==============================] - 0s 2ms/step - loss: 0.6162 - accuracy: 0.6965 - val_loss: 0.6604 - val_accuracy: 0.6535\n",
            "Epoch 47/150\n",
            "52/52 [==============================] - 0s 3ms/step - loss: 0.6175 - accuracy: 0.6946 - val_loss: 0.6589 - val_accuracy: 0.6575\n",
            "Epoch 48/150\n",
            "52/52 [==============================] - 0s 3ms/step - loss: 0.6072 - accuracy: 0.6965 - val_loss: 0.6956 - val_accuracy: 0.6496\n",
            "Epoch 49/150\n",
            "52/52 [==============================] - 0s 2ms/step - loss: 0.6269 - accuracy: 0.6887 - val_loss: 0.6354 - val_accuracy: 0.6654\n",
            "Epoch 50/150\n",
            "52/52 [==============================] - 0s 3ms/step - loss: 0.6103 - accuracy: 0.6946 - val_loss: 0.6286 - val_accuracy: 0.6732\n",
            "Epoch 51/150\n",
            "52/52 [==============================] - 0s 2ms/step - loss: 0.6110 - accuracy: 0.6868 - val_loss: 0.6369 - val_accuracy: 0.6693\n",
            "Epoch 52/150\n",
            "52/52 [==============================] - 0s 3ms/step - loss: 0.6074 - accuracy: 0.6848 - val_loss: 0.6247 - val_accuracy: 0.6772\n",
            "Epoch 53/150\n",
            "52/52 [==============================] - 0s 2ms/step - loss: 0.5980 - accuracy: 0.6887 - val_loss: 0.6286 - val_accuracy: 0.6772\n",
            "Epoch 54/150\n",
            "52/52 [==============================] - 0s 3ms/step - loss: 0.5990 - accuracy: 0.6946 - val_loss: 0.6330 - val_accuracy: 0.6693\n",
            "Epoch 55/150\n",
            "52/52 [==============================] - 0s 3ms/step - loss: 0.5961 - accuracy: 0.6946 - val_loss: 0.6237 - val_accuracy: 0.6772\n",
            "Epoch 56/150\n",
            "52/52 [==============================] - 0s 3ms/step - loss: 0.6039 - accuracy: 0.6809 - val_loss: 0.6333 - val_accuracy: 0.6575\n",
            "Epoch 57/150\n",
            "52/52 [==============================] - 0s 3ms/step - loss: 0.6064 - accuracy: 0.6887 - val_loss: 0.6292 - val_accuracy: 0.6693\n",
            "Epoch 58/150\n",
            "52/52 [==============================] - 0s 3ms/step - loss: 0.6079 - accuracy: 0.6868 - val_loss: 0.6415 - val_accuracy: 0.6614\n",
            "Epoch 59/150\n",
            "52/52 [==============================] - 0s 3ms/step - loss: 0.6028 - accuracy: 0.6965 - val_loss: 0.6214 - val_accuracy: 0.6732\n",
            "Epoch 60/150\n",
            "52/52 [==============================] - 0s 3ms/step - loss: 0.5956 - accuracy: 0.7004 - val_loss: 0.6743 - val_accuracy: 0.6378\n",
            "Epoch 61/150\n",
            "52/52 [==============================] - 0s 3ms/step - loss: 0.6049 - accuracy: 0.6984 - val_loss: 0.7046 - val_accuracy: 0.6457\n",
            "Epoch 62/150\n",
            "52/52 [==============================] - 0s 3ms/step - loss: 0.5925 - accuracy: 0.6829 - val_loss: 0.6549 - val_accuracy: 0.6496\n",
            "Epoch 63/150\n",
            "52/52 [==============================] - 0s 3ms/step - loss: 0.6032 - accuracy: 0.6809 - val_loss: 0.6249 - val_accuracy: 0.6693\n",
            "Epoch 64/150\n",
            "52/52 [==============================] - 0s 2ms/step - loss: 0.6019 - accuracy: 0.6907 - val_loss: 0.6230 - val_accuracy: 0.6693\n",
            "Epoch 65/150\n",
            "52/52 [==============================] - 0s 3ms/step - loss: 0.5903 - accuracy: 0.6984 - val_loss: 0.6384 - val_accuracy: 0.6693\n",
            "Epoch 66/150\n",
            "52/52 [==============================] - 0s 3ms/step - loss: 0.5952 - accuracy: 0.6926 - val_loss: 0.6177 - val_accuracy: 0.6811\n",
            "Epoch 67/150\n",
            "52/52 [==============================] - 0s 3ms/step - loss: 0.5889 - accuracy: 0.7062 - val_loss: 0.6191 - val_accuracy: 0.6654\n",
            "Epoch 68/150\n",
            "52/52 [==============================] - 0s 2ms/step - loss: 0.5912 - accuracy: 0.6907 - val_loss: 0.6162 - val_accuracy: 0.6693\n",
            "Epoch 69/150\n",
            "52/52 [==============================] - 0s 3ms/step - loss: 0.5924 - accuracy: 0.6984 - val_loss: 0.6192 - val_accuracy: 0.6890\n",
            "Epoch 70/150\n",
            "52/52 [==============================] - 0s 3ms/step - loss: 0.6080 - accuracy: 0.6965 - val_loss: 0.6205 - val_accuracy: 0.6811\n",
            "Epoch 71/150\n",
            "52/52 [==============================] - 0s 2ms/step - loss: 0.5922 - accuracy: 0.6926 - val_loss: 0.6197 - val_accuracy: 0.6575\n",
            "Epoch 72/150\n",
            "52/52 [==============================] - 0s 2ms/step - loss: 0.5885 - accuracy: 0.7023 - val_loss: 0.6350 - val_accuracy: 0.6732\n",
            "Epoch 73/150\n",
            "52/52 [==============================] - 0s 3ms/step - loss: 0.6021 - accuracy: 0.6848 - val_loss: 0.6530 - val_accuracy: 0.6614\n",
            "Epoch 74/150\n",
            "52/52 [==============================] - 0s 3ms/step - loss: 0.5970 - accuracy: 0.6868 - val_loss: 0.6238 - val_accuracy: 0.6654\n",
            "Epoch 75/150\n",
            "52/52 [==============================] - 0s 3ms/step - loss: 0.5874 - accuracy: 0.7023 - val_loss: 0.6349 - val_accuracy: 0.6575\n",
            "Epoch 76/150\n",
            "52/52 [==============================] - 0s 2ms/step - loss: 0.5870 - accuracy: 0.6907 - val_loss: 0.6139 - val_accuracy: 0.6732\n",
            "Epoch 77/150\n",
            "52/52 [==============================] - 0s 2ms/step - loss: 0.5915 - accuracy: 0.6926 - val_loss: 0.6148 - val_accuracy: 0.6772\n",
            "Epoch 78/150\n",
            "52/52 [==============================] - 0s 3ms/step - loss: 0.5864 - accuracy: 0.7004 - val_loss: 0.6131 - val_accuracy: 0.6732\n",
            "Epoch 79/150\n",
            "52/52 [==============================] - 0s 3ms/step - loss: 0.5847 - accuracy: 0.6965 - val_loss: 0.6210 - val_accuracy: 0.6614\n",
            "Epoch 80/150\n",
            "52/52 [==============================] - 0s 2ms/step - loss: 0.5906 - accuracy: 0.6984 - val_loss: 0.6377 - val_accuracy: 0.6575\n",
            "Epoch 81/150\n",
            "52/52 [==============================] - 0s 3ms/step - loss: 0.6062 - accuracy: 0.6887 - val_loss: 0.6322 - val_accuracy: 0.6575\n",
            "Epoch 82/150\n",
            "52/52 [==============================] - 0s 3ms/step - loss: 0.5875 - accuracy: 0.7004 - val_loss: 0.7199 - val_accuracy: 0.6496\n",
            "Epoch 83/150\n",
            "52/52 [==============================] - 0s 3ms/step - loss: 0.6179 - accuracy: 0.6809 - val_loss: 0.6123 - val_accuracy: 0.6654\n",
            "Epoch 84/150\n",
            "52/52 [==============================] - 0s 3ms/step - loss: 0.5852 - accuracy: 0.6984 - val_loss: 0.6143 - val_accuracy: 0.6732\n",
            "Epoch 85/150\n",
            "52/52 [==============================] - 0s 2ms/step - loss: 0.5803 - accuracy: 0.7004 - val_loss: 0.6150 - val_accuracy: 0.6732\n",
            "Epoch 86/150\n",
            "52/52 [==============================] - 0s 3ms/step - loss: 0.5827 - accuracy: 0.6907 - val_loss: 0.6211 - val_accuracy: 0.6693\n",
            "Epoch 87/150\n",
            "52/52 [==============================] - 0s 3ms/step - loss: 0.5857 - accuracy: 0.7082 - val_loss: 0.6338 - val_accuracy: 0.6575\n",
            "Epoch 88/150\n",
            "52/52 [==============================] - 0s 2ms/step - loss: 0.5902 - accuracy: 0.6907 - val_loss: 0.6133 - val_accuracy: 0.6772\n",
            "Epoch 89/150\n",
            "52/52 [==============================] - 0s 2ms/step - loss: 0.6107 - accuracy: 0.6907 - val_loss: 0.6183 - val_accuracy: 0.6693\n",
            "Epoch 90/150\n",
            "52/52 [==============================] - 0s 3ms/step - loss: 0.5934 - accuracy: 0.6926 - val_loss: 0.6514 - val_accuracy: 0.6535\n",
            "Epoch 91/150\n",
            "52/52 [==============================] - 0s 2ms/step - loss: 0.5933 - accuracy: 0.6907 - val_loss: 0.6336 - val_accuracy: 0.6654\n",
            "Epoch 92/150\n",
            "52/52 [==============================] - 0s 2ms/step - loss: 0.5889 - accuracy: 0.6887 - val_loss: 0.6160 - val_accuracy: 0.6693\n",
            "Epoch 93/150\n",
            "52/52 [==============================] - 0s 2ms/step - loss: 0.5815 - accuracy: 0.7101 - val_loss: 0.6126 - val_accuracy: 0.6811\n",
            "Epoch 94/150\n",
            "52/52 [==============================] - 0s 2ms/step - loss: 0.5865 - accuracy: 0.6868 - val_loss: 0.6141 - val_accuracy: 0.6614\n",
            "Epoch 95/150\n",
            "52/52 [==============================] - 0s 3ms/step - loss: 0.5856 - accuracy: 0.7004 - val_loss: 0.6171 - val_accuracy: 0.6693\n",
            "Epoch 96/150\n",
            "52/52 [==============================] - 0s 2ms/step - loss: 0.5843 - accuracy: 0.7062 - val_loss: 0.6123 - val_accuracy: 0.6732\n",
            "Epoch 97/150\n",
            "52/52 [==============================] - 0s 3ms/step - loss: 0.5962 - accuracy: 0.6965 - val_loss: 0.6098 - val_accuracy: 0.6654\n",
            "Epoch 98/150\n",
            "52/52 [==============================] - 0s 2ms/step - loss: 0.5828 - accuracy: 0.7004 - val_loss: 0.6195 - val_accuracy: 0.6693\n",
            "Epoch 99/150\n",
            "52/52 [==============================] - 0s 3ms/step - loss: 0.5936 - accuracy: 0.6946 - val_loss: 0.6168 - val_accuracy: 0.6654\n",
            "Epoch 100/150\n",
            "52/52 [==============================] - 0s 3ms/step - loss: 0.5808 - accuracy: 0.6965 - val_loss: 0.6445 - val_accuracy: 0.6535\n",
            "Epoch 101/150\n",
            "52/52 [==============================] - 0s 3ms/step - loss: 0.6053 - accuracy: 0.6848 - val_loss: 0.6130 - val_accuracy: 0.6811\n",
            "Epoch 102/150\n",
            "52/52 [==============================] - 0s 2ms/step - loss: 0.5865 - accuracy: 0.7004 - val_loss: 0.6105 - val_accuracy: 0.6732\n",
            "Epoch 103/150\n",
            "52/52 [==============================] - 0s 2ms/step - loss: 0.5882 - accuracy: 0.6926 - val_loss: 0.6129 - val_accuracy: 0.6772\n",
            "Epoch 104/150\n",
            "52/52 [==============================] - 0s 3ms/step - loss: 0.5784 - accuracy: 0.7043 - val_loss: 0.6106 - val_accuracy: 0.6772\n",
            "Epoch 105/150\n",
            "52/52 [==============================] - 0s 3ms/step - loss: 0.5804 - accuracy: 0.7043 - val_loss: 0.6109 - val_accuracy: 0.6811\n",
            "Epoch 106/150\n",
            "52/52 [==============================] - 0s 2ms/step - loss: 0.5858 - accuracy: 0.6965 - val_loss: 0.6210 - val_accuracy: 0.6732\n",
            "Epoch 107/150\n",
            "52/52 [==============================] - 0s 2ms/step - loss: 0.5782 - accuracy: 0.6984 - val_loss: 0.6222 - val_accuracy: 0.6614\n",
            "Epoch 108/150\n",
            "52/52 [==============================] - 0s 2ms/step - loss: 0.5780 - accuracy: 0.7179 - val_loss: 0.6161 - val_accuracy: 0.6772\n",
            "Epoch 109/150\n",
            "52/52 [==============================] - 0s 3ms/step - loss: 0.5887 - accuracy: 0.7004 - val_loss: 0.6133 - val_accuracy: 0.6772\n",
            "Epoch 110/150\n",
            "52/52 [==============================] - 0s 3ms/step - loss: 0.5799 - accuracy: 0.7023 - val_loss: 0.6115 - val_accuracy: 0.6811\n",
            "Epoch 111/150\n",
            "52/52 [==============================] - 0s 2ms/step - loss: 0.5753 - accuracy: 0.7004 - val_loss: 0.6101 - val_accuracy: 0.6732\n",
            "Epoch 112/150\n",
            "52/52 [==============================] - 0s 3ms/step - loss: 0.5816 - accuracy: 0.6946 - val_loss: 0.6079 - val_accuracy: 0.6772\n",
            "Epoch 113/150\n",
            "52/52 [==============================] - 0s 2ms/step - loss: 0.5751 - accuracy: 0.7004 - val_loss: 0.6163 - val_accuracy: 0.6732\n",
            "Epoch 114/150\n",
            "52/52 [==============================] - 0s 3ms/step - loss: 0.5826 - accuracy: 0.7004 - val_loss: 0.6085 - val_accuracy: 0.6811\n",
            "Epoch 115/150\n",
            "52/52 [==============================] - 0s 3ms/step - loss: 0.5856 - accuracy: 0.6984 - val_loss: 0.6081 - val_accuracy: 0.6732\n",
            "Epoch 116/150\n",
            "52/52 [==============================] - 0s 3ms/step - loss: 0.5788 - accuracy: 0.7082 - val_loss: 0.6164 - val_accuracy: 0.6732\n",
            "Epoch 117/150\n",
            "52/52 [==============================] - 0s 2ms/step - loss: 0.5856 - accuracy: 0.7101 - val_loss: 0.6182 - val_accuracy: 0.6535\n",
            "Epoch 118/150\n",
            "52/52 [==============================] - 0s 3ms/step - loss: 0.5770 - accuracy: 0.7023 - val_loss: 0.6078 - val_accuracy: 0.6732\n",
            "Epoch 119/150\n",
            "52/52 [==============================] - 0s 3ms/step - loss: 0.5837 - accuracy: 0.6946 - val_loss: 0.6120 - val_accuracy: 0.6732\n",
            "Epoch 120/150\n",
            "52/52 [==============================] - 0s 3ms/step - loss: 0.5794 - accuracy: 0.7023 - val_loss: 0.6030 - val_accuracy: 0.6929\n",
            "Epoch 121/150\n",
            "52/52 [==============================] - 0s 3ms/step - loss: 0.5767 - accuracy: 0.7023 - val_loss: 0.6062 - val_accuracy: 0.6732\n",
            "Epoch 122/150\n",
            "52/52 [==============================] - 0s 2ms/step - loss: 0.5729 - accuracy: 0.7023 - val_loss: 0.6067 - val_accuracy: 0.6772\n",
            "Epoch 123/150\n",
            "52/52 [==============================] - 0s 3ms/step - loss: 0.5737 - accuracy: 0.7023 - val_loss: 0.6162 - val_accuracy: 0.6614\n",
            "Epoch 124/150\n",
            "52/52 [==============================] - 0s 3ms/step - loss: 0.5705 - accuracy: 0.7004 - val_loss: 0.6093 - val_accuracy: 0.6772\n",
            "Epoch 125/150\n",
            "52/52 [==============================] - 0s 3ms/step - loss: 0.5706 - accuracy: 0.7062 - val_loss: 0.6068 - val_accuracy: 0.6772\n",
            "Epoch 126/150\n",
            "52/52 [==============================] - 0s 3ms/step - loss: 0.5730 - accuracy: 0.6965 - val_loss: 0.6026 - val_accuracy: 0.6929\n",
            "Epoch 127/150\n",
            "52/52 [==============================] - 0s 2ms/step - loss: 0.5926 - accuracy: 0.7004 - val_loss: 0.6176 - val_accuracy: 0.6693\n",
            "Epoch 128/150\n",
            "52/52 [==============================] - 0s 2ms/step - loss: 0.5869 - accuracy: 0.6984 - val_loss: 0.6055 - val_accuracy: 0.6811\n",
            "Epoch 129/150\n",
            "52/52 [==============================] - 0s 2ms/step - loss: 0.5716 - accuracy: 0.7023 - val_loss: 0.6065 - val_accuracy: 0.6890\n",
            "Epoch 130/150\n",
            "52/52 [==============================] - 0s 2ms/step - loss: 0.5697 - accuracy: 0.7043 - val_loss: 0.6105 - val_accuracy: 0.6496\n",
            "Epoch 131/150\n",
            "52/52 [==============================] - 0s 3ms/step - loss: 0.5683 - accuracy: 0.7121 - val_loss: 0.6251 - val_accuracy: 0.6693\n",
            "Epoch 132/150\n",
            "52/52 [==============================] - 0s 3ms/step - loss: 0.5743 - accuracy: 0.7062 - val_loss: 0.6142 - val_accuracy: 0.6850\n",
            "Epoch 133/150\n",
            "52/52 [==============================] - 0s 2ms/step - loss: 0.5708 - accuracy: 0.7043 - val_loss: 0.6074 - val_accuracy: 0.6850\n",
            "Epoch 134/150\n",
            "52/52 [==============================] - 0s 3ms/step - loss: 0.5780 - accuracy: 0.7004 - val_loss: 0.6090 - val_accuracy: 0.6811\n",
            "Epoch 135/150\n",
            "52/52 [==============================] - 0s 3ms/step - loss: 0.5688 - accuracy: 0.7082 - val_loss: 0.6073 - val_accuracy: 0.6732\n",
            "Epoch 136/150\n",
            "52/52 [==============================] - 0s 3ms/step - loss: 0.5655 - accuracy: 0.7082 - val_loss: 0.6185 - val_accuracy: 0.6693\n",
            "Epoch 137/150\n",
            "52/52 [==============================] - 0s 2ms/step - loss: 0.5650 - accuracy: 0.7101 - val_loss: 0.6034 - val_accuracy: 0.6811\n",
            "Epoch 138/150\n",
            "52/52 [==============================] - 0s 2ms/step - loss: 0.5673 - accuracy: 0.7140 - val_loss: 0.6023 - val_accuracy: 0.6890\n",
            "Epoch 139/150\n",
            "52/52 [==============================] - 0s 2ms/step - loss: 0.5769 - accuracy: 0.7082 - val_loss: 0.6697 - val_accuracy: 0.6693\n",
            "Epoch 140/150\n",
            "52/52 [==============================] - 0s 3ms/step - loss: 0.5939 - accuracy: 0.7004 - val_loss: 0.6273 - val_accuracy: 0.6575\n",
            "Epoch 141/150\n",
            "52/52 [==============================] - 0s 3ms/step - loss: 0.5900 - accuracy: 0.6984 - val_loss: 0.6181 - val_accuracy: 0.6811\n",
            "Epoch 142/150\n",
            "52/52 [==============================] - 0s 3ms/step - loss: 0.5773 - accuracy: 0.7082 - val_loss: 0.6053 - val_accuracy: 0.6732\n",
            "Epoch 143/150\n",
            "52/52 [==============================] - 0s 2ms/step - loss: 0.5664 - accuracy: 0.7043 - val_loss: 0.5964 - val_accuracy: 0.6850\n",
            "Epoch 144/150\n",
            "52/52 [==============================] - 0s 3ms/step - loss: 0.5654 - accuracy: 0.7023 - val_loss: 0.6035 - val_accuracy: 0.6575\n",
            "Epoch 145/150\n",
            "52/52 [==============================] - 0s 2ms/step - loss: 0.5792 - accuracy: 0.7023 - val_loss: 0.6173 - val_accuracy: 0.6535\n",
            "Epoch 146/150\n",
            "52/52 [==============================] - 0s 2ms/step - loss: 0.5673 - accuracy: 0.7179 - val_loss: 0.6336 - val_accuracy: 0.6496\n",
            "Epoch 147/150\n",
            "52/52 [==============================] - 0s 3ms/step - loss: 0.5748 - accuracy: 0.7062 - val_loss: 0.6180 - val_accuracy: 0.6654\n",
            "Epoch 148/150\n",
            "52/52 [==============================] - 0s 2ms/step - loss: 0.5669 - accuracy: 0.7043 - val_loss: 0.6148 - val_accuracy: 0.6693\n",
            "Epoch 149/150\n",
            "52/52 [==============================] - 0s 3ms/step - loss: 0.5751 - accuracy: 0.6984 - val_loss: 0.6208 - val_accuracy: 0.6654\n",
            "Epoch 150/150\n",
            "52/52 [==============================] - 0s 3ms/step - loss: 0.5741 - accuracy: 0.6926 - val_loss: 0.6167 - val_accuracy: 0.6772\n"
          ]
        },
        {
          "output_type": "execute_result",
          "data": {
            "text/plain": [
              "<keras.callbacks.History at 0x7f7114188cd0>"
            ]
          },
          "metadata": {},
          "execution_count": 16
        }
      ]
    },
    {
      "cell_type": "code",
      "source": [
        "scores = model.evaluate(X, Y)\n",
        "#print(scores)\n",
        "print(\"\\n%s: %.4f%%\" % (model.metrics_names[1], scores[1]*100))"
      ],
      "metadata": {
        "colab": {
          "base_uri": "https://localhost:8080/"
        },
        "id": "Io2Aob_ARXKj",
        "outputId": "6da869bf-3e21-43a0-cff6-449dbe47d5f9"
      },
      "execution_count": 17,
      "outputs": [
        {
          "output_type": "stream",
          "name": "stdout",
          "text": [
            "24/24 [==============================] - 0s 2ms/step - loss: 0.5855 - accuracy: 0.7070\n",
            "\n",
            "accuracy: 70.7031%\n"
          ]
        }
      ]
    },
    {
      "cell_type": "code",
      "source": [
        "print(scores)"
      ],
      "metadata": {
        "colab": {
          "base_uri": "https://localhost:8080/"
        },
        "id": "7absRNdURk0N",
        "outputId": "83b7d877-6bdb-4933-e8f1-a475291ca6cb"
      },
      "execution_count": 18,
      "outputs": [
        {
          "output_type": "stream",
          "name": "stdout",
          "text": [
            "[0.5855233073234558, 0.70703125]\n"
          ]
        }
      ]
    },
    {
      "cell_type": "code",
      "source": [
        ""
      ],
      "metadata": {
        "id": "aMTHN4ECRndj"
      },
      "execution_count": null,
      "outputs": []
    }
  ]
}