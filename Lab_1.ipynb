{
  "nbformat": 4,
  "nbformat_minor": 0,
  "metadata": {
    "colab": {
      "name": "Lab 1.ipynb",
      "provenance": [],
      "collapsed_sections": [],
      "include_colab_link": true
    },
    "kernelspec": {
      "name": "python3",
      "display_name": "Python 3"
    },
    "accelerator": "GPU"
  },
  "cells": [
    {
      "cell_type": "markdown",
      "metadata": {
        "id": "view-in-github",
        "colab_type": "text"
      },
      "source": [
        "<a href=\"https://colab.research.google.com/github/khushboo28sahu/Deep_Learning/blob/main/Lab_1.ipynb\" target=\"_parent\"><img src=\"https://colab.research.google.com/assets/colab-badge.svg\" alt=\"Open In Colab\"/></a>"
      ]
    },
    {
      "cell_type": "markdown",
      "metadata": {
        "id": "zPmKnqJ6Sqhw"
      },
      "source": [
        "### **Load Libraries and Seed Random Number Generator**\n",
        "\n"
      ]
    },
    {
      "cell_type": "code",
      "metadata": {
        "id": "t91obJMAKSgX"
      },
      "source": [
        "from keras.models import Sequential\n",
        "from keras.layers import Dense\n",
        "import numpy"
      ],
      "execution_count": null,
      "outputs": []
    },
    {
      "cell_type": "code",
      "metadata": {
        "id": "fK-6oJJN2cqt",
        "colab": {
          "base_uri": "https://localhost:8080/"
        },
        "outputId": "02222380-70a9-4ca2-aae6-b506528d04d0"
      },
      "source": [
        "# fix random seed for reproducibility\n",
        "print(numpy.random.seed(7))"
      ],
      "execution_count": null,
      "outputs": [
        {
          "output_type": "stream",
          "name": "stdout",
          "text": [
            "None\n"
          ]
        }
      ]
    },
    {
      "cell_type": "code",
      "metadata": {
        "id": "fyHQLAauKtnO",
        "colab": {
          "base_uri": "https://localhost:8080/"
        },
        "outputId": "0ee31594-5e74-4554-f45a-588b2f2cbf81"
      },
      "source": [
        "import numpy\n",
        "print(numpy.random.seed(1)) ;\n",
        "numpy.random.rand(5)"
      ],
      "execution_count": null,
      "outputs": [
        {
          "output_type": "stream",
          "name": "stdout",
          "text": [
            "None\n"
          ]
        },
        {
          "output_type": "execute_result",
          "data": {
            "text/plain": [
              "array([4.17022005e-01, 7.20324493e-01, 1.14374817e-04, 3.02332573e-01,\n",
              "       1.46755891e-01])"
            ]
          },
          "metadata": {},
          "execution_count": 3
        }
      ]
    },
    {
      "cell_type": "code",
      "metadata": {
        "id": "VePCr8uziVZk",
        "colab": {
          "base_uri": "https://localhost:8080/"
        },
        "outputId": "1eb30d93-79d8-410e-b705-b0ac6e16c425"
      },
      "source": [
        "numpy.random.random(10)"
      ],
      "execution_count": null,
      "outputs": [
        {
          "output_type": "execute_result",
          "data": {
            "text/plain": [
              "array([0.09233859, 0.18626021, 0.34556073, 0.39676747, 0.53881673,\n",
              "       0.41919451, 0.6852195 , 0.20445225, 0.87811744, 0.02738759])"
            ]
          },
          "metadata": {},
          "execution_count": 4
        }
      ]
    },
    {
      "cell_type": "code",
      "metadata": {
        "id": "JNzZ1rfoLSJV",
        "colab": {
          "base_uri": "https://localhost:8080/"
        },
        "outputId": "3156a155-3fe6-4882-a2ae-6c8a529b220b"
      },
      "source": [
        "from google.colab import drive\n",
        "drive.mount('/content/drive')"
      ],
      "execution_count": null,
      "outputs": [
        {
          "output_type": "stream",
          "name": "stdout",
          "text": [
            "Mounted at /content/drive\n"
          ]
        }
      ]
    },
    {
      "cell_type": "code",
      "metadata": {
        "id": "8JcicsnKKY3r",
        "colab": {
          "base_uri": "https://localhost:8080/"
        },
        "outputId": "beb6e6b7-a5e9-4a35-f245-afd423a5915c"
      },
      "source": [
        "# load pima indians dataset\n",
        "dataset = numpy.loadtxt(\"/content/drive/MyDrive/Git_Repository/Deep_Learning/pima-indians-diabetes.csv\", delimiter=\",\")\n",
        "# split into input and output variables\n",
        "X = dataset[:,0:8]\n",
        "Y = dataset[:,8]\n",
        "print(X.shape)"
      ],
      "execution_count": null,
      "outputs": [
        {
          "output_type": "stream",
          "name": "stdout",
          "text": [
            "(768, 8)\n"
          ]
        }
      ]
    },
    {
      "cell_type": "code",
      "metadata": {
        "id": "D2nZ-AYdKgPz"
      },
      "source": [
        "# create model\n",
        "model = Sequential()\n",
        "model.add(Dense(12, input_dim=8, activation='relu'))\n",
        "model.add(Dense(8, activation='relu'))\n",
        "model.add(Dense(1, activation='sigmoid'))"
      ],
      "execution_count": null,
      "outputs": []
    },
    {
      "cell_type": "code",
      "metadata": {
        "id": "0i9JSfcQLtgx"
      },
      "source": [
        "# Compile model\n",
        "model.compile(loss='binary_crossentropy', optimizer='adam', metrics=['accuracy'])"
      ],
      "execution_count": null,
      "outputs": []
    },
    {
      "cell_type": "code",
      "metadata": {
        "id": "mAmt1ITnLyx7",
        "colab": {
          "base_uri": "https://localhost:8080/"
        },
        "outputId": "d6c3aa5f-f223-4f0f-a1b5-25c932bfaf35"
      },
      "source": [
        "# Fit the model\n",
        "model.fit(X, Y, epochs=150, batch_size=10, verbose=1)\n",
        "#model.fit(X, Y, validation_split=0.33, epochs=150, batch_size=10)"
      ],
      "execution_count": null,
      "outputs": [
        {
          "output_type": "stream",
          "name": "stdout",
          "text": [
            "Epoch 1/150\n",
            "77/77 [==============================] - 2s 3ms/step - loss: 4.7767 - accuracy: 0.4987\n",
            "Epoch 2/150\n",
            "77/77 [==============================] - 0s 3ms/step - loss: 1.6597 - accuracy: 0.5664\n",
            "Epoch 3/150\n",
            "77/77 [==============================] - 0s 4ms/step - loss: 1.3266 - accuracy: 0.5573\n",
            "Epoch 4/150\n",
            "77/77 [==============================] - 0s 3ms/step - loss: 1.1848 - accuracy: 0.5599\n",
            "Epoch 5/150\n",
            "77/77 [==============================] - 0s 3ms/step - loss: 1.1081 - accuracy: 0.5521\n",
            "Epoch 6/150\n",
            "77/77 [==============================] - 0s 3ms/step - loss: 1.0056 - accuracy: 0.5664\n",
            "Epoch 7/150\n",
            "77/77 [==============================] - 0s 4ms/step - loss: 0.9232 - accuracy: 0.5742\n",
            "Epoch 8/150\n",
            "77/77 [==============================] - 0s 3ms/step - loss: 0.8682 - accuracy: 0.5964\n",
            "Epoch 9/150\n",
            "77/77 [==============================] - 0s 3ms/step - loss: 0.8001 - accuracy: 0.5951\n",
            "Epoch 10/150\n",
            "77/77 [==============================] - 0s 3ms/step - loss: 0.7794 - accuracy: 0.6120\n",
            "Epoch 11/150\n",
            "77/77 [==============================] - 0s 4ms/step - loss: 0.7250 - accuracy: 0.6250\n",
            "Epoch 12/150\n",
            "77/77 [==============================] - 0s 4ms/step - loss: 0.6986 - accuracy: 0.6562\n",
            "Epoch 13/150\n",
            "77/77 [==============================] - 0s 3ms/step - loss: 0.6876 - accuracy: 0.6497\n",
            "Epoch 14/150\n",
            "77/77 [==============================] - 0s 3ms/step - loss: 0.6613 - accuracy: 0.6667\n",
            "Epoch 15/150\n",
            "77/77 [==============================] - 0s 3ms/step - loss: 0.6504 - accuracy: 0.6628\n",
            "Epoch 16/150\n",
            "77/77 [==============================] - 0s 3ms/step - loss: 0.6563 - accuracy: 0.6641\n",
            "Epoch 17/150\n",
            "77/77 [==============================] - 0s 3ms/step - loss: 0.6466 - accuracy: 0.6654\n",
            "Epoch 18/150\n",
            "77/77 [==============================] - 0s 3ms/step - loss: 0.6303 - accuracy: 0.6732\n",
            "Epoch 19/150\n",
            "77/77 [==============================] - 0s 3ms/step - loss: 0.6169 - accuracy: 0.6862\n",
            "Epoch 20/150\n",
            "77/77 [==============================] - 0s 3ms/step - loss: 0.6125 - accuracy: 0.6693\n",
            "Epoch 21/150\n",
            "77/77 [==============================] - 0s 4ms/step - loss: 0.6067 - accuracy: 0.6927\n",
            "Epoch 22/150\n",
            "77/77 [==============================] - 0s 3ms/step - loss: 0.6052 - accuracy: 0.6862\n",
            "Epoch 23/150\n",
            "77/77 [==============================] - 0s 3ms/step - loss: 0.5991 - accuracy: 0.6888\n",
            "Epoch 24/150\n",
            "77/77 [==============================] - 0s 3ms/step - loss: 0.6058 - accuracy: 0.6888\n",
            "Epoch 25/150\n",
            "77/77 [==============================] - 0s 3ms/step - loss: 0.5881 - accuracy: 0.6888\n",
            "Epoch 26/150\n",
            "77/77 [==============================] - 0s 3ms/step - loss: 0.5857 - accuracy: 0.7031\n",
            "Epoch 27/150\n",
            "77/77 [==============================] - 0s 3ms/step - loss: 0.5713 - accuracy: 0.7031\n",
            "Epoch 28/150\n",
            "77/77 [==============================] - 0s 3ms/step - loss: 0.5855 - accuracy: 0.6849\n",
            "Epoch 29/150\n",
            "77/77 [==============================] - 0s 3ms/step - loss: 0.5647 - accuracy: 0.7057\n",
            "Epoch 30/150\n",
            "77/77 [==============================] - 0s 3ms/step - loss: 0.5764 - accuracy: 0.7005\n",
            "Epoch 31/150\n",
            "77/77 [==============================] - 0s 3ms/step - loss: 0.5677 - accuracy: 0.7083\n",
            "Epoch 32/150\n",
            "77/77 [==============================] - 0s 3ms/step - loss: 0.5706 - accuracy: 0.7096\n",
            "Epoch 33/150\n",
            "77/77 [==============================] - 0s 3ms/step - loss: 0.5692 - accuracy: 0.7214\n",
            "Epoch 34/150\n",
            "77/77 [==============================] - 0s 3ms/step - loss: 0.5637 - accuracy: 0.7044\n",
            "Epoch 35/150\n",
            "77/77 [==============================] - 0s 3ms/step - loss: 0.5703 - accuracy: 0.7135\n",
            "Epoch 36/150\n",
            "77/77 [==============================] - 0s 3ms/step - loss: 0.5511 - accuracy: 0.7083\n",
            "Epoch 37/150\n",
            "77/77 [==============================] - 0s 3ms/step - loss: 0.5555 - accuracy: 0.7057\n",
            "Epoch 38/150\n",
            "77/77 [==============================] - 0s 3ms/step - loss: 0.5433 - accuracy: 0.7331\n",
            "Epoch 39/150\n",
            "77/77 [==============================] - 0s 3ms/step - loss: 0.5526 - accuracy: 0.7031\n",
            "Epoch 40/150\n",
            "77/77 [==============================] - 0s 3ms/step - loss: 0.5516 - accuracy: 0.7370\n",
            "Epoch 41/150\n",
            "77/77 [==============================] - 0s 3ms/step - loss: 0.5798 - accuracy: 0.7031\n",
            "Epoch 42/150\n",
            "77/77 [==============================] - 0s 3ms/step - loss: 0.5793 - accuracy: 0.7005\n",
            "Epoch 43/150\n",
            "77/77 [==============================] - 0s 3ms/step - loss: 0.5559 - accuracy: 0.7070\n",
            "Epoch 44/150\n",
            "77/77 [==============================] - 0s 3ms/step - loss: 0.5784 - accuracy: 0.6953\n",
            "Epoch 45/150\n",
            "77/77 [==============================] - 0s 3ms/step - loss: 0.5405 - accuracy: 0.7305\n",
            "Epoch 46/150\n",
            "77/77 [==============================] - 0s 3ms/step - loss: 0.5454 - accuracy: 0.7188\n",
            "Epoch 47/150\n",
            "77/77 [==============================] - 0s 3ms/step - loss: 0.5370 - accuracy: 0.7344\n",
            "Epoch 48/150\n",
            "77/77 [==============================] - 0s 4ms/step - loss: 0.5410 - accuracy: 0.7331\n",
            "Epoch 49/150\n",
            "77/77 [==============================] - 0s 3ms/step - loss: 0.5455 - accuracy: 0.7357\n",
            "Epoch 50/150\n",
            "77/77 [==============================] - 0s 3ms/step - loss: 0.5458 - accuracy: 0.7435\n",
            "Epoch 51/150\n",
            "77/77 [==============================] - 0s 3ms/step - loss: 0.5304 - accuracy: 0.7422\n",
            "Epoch 52/150\n",
            "77/77 [==============================] - 0s 3ms/step - loss: 0.5323 - accuracy: 0.7305\n",
            "Epoch 53/150\n",
            "77/77 [==============================] - 0s 4ms/step - loss: 0.5327 - accuracy: 0.7409\n",
            "Epoch 54/150\n",
            "77/77 [==============================] - 0s 3ms/step - loss: 0.5431 - accuracy: 0.7318\n",
            "Epoch 55/150\n",
            "77/77 [==============================] - 0s 4ms/step - loss: 0.5605 - accuracy: 0.7214\n",
            "Epoch 56/150\n",
            "77/77 [==============================] - 0s 3ms/step - loss: 0.5293 - accuracy: 0.7487\n",
            "Epoch 57/150\n",
            "77/77 [==============================] - 0s 3ms/step - loss: 0.5323 - accuracy: 0.7370\n",
            "Epoch 58/150\n",
            "77/77 [==============================] - 0s 3ms/step - loss: 0.5186 - accuracy: 0.7370\n",
            "Epoch 59/150\n",
            "77/77 [==============================] - 0s 3ms/step - loss: 0.5357 - accuracy: 0.7383\n",
            "Epoch 60/150\n",
            "77/77 [==============================] - 0s 3ms/step - loss: 0.5244 - accuracy: 0.7279\n",
            "Epoch 61/150\n",
            "77/77 [==============================] - 0s 3ms/step - loss: 0.5518 - accuracy: 0.7370\n",
            "Epoch 62/150\n",
            "77/77 [==============================] - 0s 3ms/step - loss: 0.5227 - accuracy: 0.7513\n",
            "Epoch 63/150\n",
            "77/77 [==============================] - 0s 3ms/step - loss: 0.5277 - accuracy: 0.7305\n",
            "Epoch 64/150\n",
            "77/77 [==============================] - 0s 3ms/step - loss: 0.5357 - accuracy: 0.7513\n",
            "Epoch 65/150\n",
            "77/77 [==============================] - 0s 3ms/step - loss: 0.5323 - accuracy: 0.7461\n",
            "Epoch 66/150\n",
            "77/77 [==============================] - 0s 3ms/step - loss: 0.5214 - accuracy: 0.7435\n",
            "Epoch 67/150\n",
            "77/77 [==============================] - 0s 4ms/step - loss: 0.5193 - accuracy: 0.7357\n",
            "Epoch 68/150\n",
            "77/77 [==============================] - 0s 4ms/step - loss: 0.5252 - accuracy: 0.7474\n",
            "Epoch 69/150\n",
            "77/77 [==============================] - 0s 3ms/step - loss: 0.5150 - accuracy: 0.7630\n",
            "Epoch 70/150\n",
            "77/77 [==============================] - 0s 3ms/step - loss: 0.5223 - accuracy: 0.7487\n",
            "Epoch 71/150\n",
            "77/77 [==============================] - 0s 3ms/step - loss: 0.5227 - accuracy: 0.7396\n",
            "Epoch 72/150\n",
            "77/77 [==============================] - 0s 3ms/step - loss: 0.5222 - accuracy: 0.7487\n",
            "Epoch 73/150\n",
            "77/77 [==============================] - 0s 3ms/step - loss: 0.5151 - accuracy: 0.7461\n",
            "Epoch 74/150\n",
            "77/77 [==============================] - 0s 3ms/step - loss: 0.5062 - accuracy: 0.7539\n",
            "Epoch 75/150\n",
            "77/77 [==============================] - 0s 3ms/step - loss: 0.5165 - accuracy: 0.7500\n",
            "Epoch 76/150\n",
            "77/77 [==============================] - 0s 4ms/step - loss: 0.5174 - accuracy: 0.7409\n",
            "Epoch 77/150\n",
            "77/77 [==============================] - 0s 4ms/step - loss: 0.5191 - accuracy: 0.7565\n",
            "Epoch 78/150\n",
            "77/77 [==============================] - 0s 3ms/step - loss: 0.5080 - accuracy: 0.7643\n",
            "Epoch 79/150\n",
            "77/77 [==============================] - 0s 3ms/step - loss: 0.5114 - accuracy: 0.7591\n",
            "Epoch 80/150\n",
            "77/77 [==============================] - 0s 3ms/step - loss: 0.5293 - accuracy: 0.7487\n",
            "Epoch 81/150\n",
            "77/77 [==============================] - 0s 3ms/step - loss: 0.5116 - accuracy: 0.7630\n",
            "Epoch 82/150\n",
            "77/77 [==============================] - 0s 3ms/step - loss: 0.5318 - accuracy: 0.7474\n",
            "Epoch 83/150\n",
            "77/77 [==============================] - 0s 3ms/step - loss: 0.5164 - accuracy: 0.7487\n",
            "Epoch 84/150\n",
            "77/77 [==============================] - 0s 4ms/step - loss: 0.5018 - accuracy: 0.7656\n",
            "Epoch 85/150\n",
            "77/77 [==============================] - 0s 4ms/step - loss: 0.5124 - accuracy: 0.7344\n",
            "Epoch 86/150\n",
            "77/77 [==============================] - 0s 3ms/step - loss: 0.5114 - accuracy: 0.7630\n",
            "Epoch 87/150\n",
            "77/77 [==============================] - 0s 3ms/step - loss: 0.5020 - accuracy: 0.7617\n",
            "Epoch 88/150\n",
            "77/77 [==============================] - 0s 4ms/step - loss: 0.5034 - accuracy: 0.7552\n",
            "Epoch 89/150\n",
            "77/77 [==============================] - 0s 4ms/step - loss: 0.5012 - accuracy: 0.7591\n",
            "Epoch 90/150\n",
            "77/77 [==============================] - 0s 3ms/step - loss: 0.5101 - accuracy: 0.7461\n",
            "Epoch 91/150\n",
            "77/77 [==============================] - 0s 3ms/step - loss: 0.4966 - accuracy: 0.7604\n",
            "Epoch 92/150\n",
            "77/77 [==============================] - 0s 3ms/step - loss: 0.5098 - accuracy: 0.7487\n",
            "Epoch 93/150\n",
            "77/77 [==============================] - 0s 3ms/step - loss: 0.5004 - accuracy: 0.7604\n",
            "Epoch 94/150\n",
            "77/77 [==============================] - 0s 3ms/step - loss: 0.5209 - accuracy: 0.7487\n",
            "Epoch 95/150\n",
            "77/77 [==============================] - 0s 3ms/step - loss: 0.5049 - accuracy: 0.7578\n",
            "Epoch 96/150\n",
            "77/77 [==============================] - 0s 3ms/step - loss: 0.5168 - accuracy: 0.7552\n",
            "Epoch 97/150\n",
            "77/77 [==============================] - 0s 3ms/step - loss: 0.5063 - accuracy: 0.7565\n",
            "Epoch 98/150\n",
            "77/77 [==============================] - 0s 3ms/step - loss: 0.5170 - accuracy: 0.7604\n",
            "Epoch 99/150\n",
            "77/77 [==============================] - 0s 3ms/step - loss: 0.5117 - accuracy: 0.7448\n",
            "Epoch 100/150\n",
            "77/77 [==============================] - 0s 3ms/step - loss: 0.4957 - accuracy: 0.7682\n",
            "Epoch 101/150\n",
            "77/77 [==============================] - 0s 3ms/step - loss: 0.4958 - accuracy: 0.7643\n",
            "Epoch 102/150\n",
            "77/77 [==============================] - 0s 3ms/step - loss: 0.4925 - accuracy: 0.7604\n",
            "Epoch 103/150\n",
            "77/77 [==============================] - 0s 3ms/step - loss: 0.4995 - accuracy: 0.7539\n",
            "Epoch 104/150\n",
            "77/77 [==============================] - 0s 4ms/step - loss: 0.4953 - accuracy: 0.7643\n",
            "Epoch 105/150\n",
            "77/77 [==============================] - 0s 3ms/step - loss: 0.4899 - accuracy: 0.7682\n",
            "Epoch 106/150\n",
            "77/77 [==============================] - 0s 3ms/step - loss: 0.4912 - accuracy: 0.7747\n",
            "Epoch 107/150\n",
            "77/77 [==============================] - 0s 3ms/step - loss: 0.5013 - accuracy: 0.7604\n",
            "Epoch 108/150\n",
            "77/77 [==============================] - 0s 3ms/step - loss: 0.5048 - accuracy: 0.7565\n",
            "Epoch 109/150\n",
            "77/77 [==============================] - 0s 3ms/step - loss: 0.4974 - accuracy: 0.7591\n",
            "Epoch 110/150\n",
            "77/77 [==============================] - 0s 4ms/step - loss: 0.4914 - accuracy: 0.7565\n",
            "Epoch 111/150\n",
            "77/77 [==============================] - 0s 3ms/step - loss: 0.4920 - accuracy: 0.7734\n",
            "Epoch 112/150\n",
            "77/77 [==============================] - 0s 3ms/step - loss: 0.4886 - accuracy: 0.7773\n",
            "Epoch 113/150\n",
            "77/77 [==============================] - 0s 3ms/step - loss: 0.4969 - accuracy: 0.7682\n",
            "Epoch 114/150\n",
            "77/77 [==============================] - 0s 4ms/step - loss: 0.4916 - accuracy: 0.7513\n",
            "Epoch 115/150\n",
            "77/77 [==============================] - 0s 3ms/step - loss: 0.4937 - accuracy: 0.7682\n",
            "Epoch 116/150\n",
            "77/77 [==============================] - 0s 3ms/step - loss: 0.4883 - accuracy: 0.7487\n",
            "Epoch 117/150\n",
            "77/77 [==============================] - 0s 3ms/step - loss: 0.4951 - accuracy: 0.7682\n",
            "Epoch 118/150\n",
            "77/77 [==============================] - 0s 3ms/step - loss: 0.4901 - accuracy: 0.7695\n",
            "Epoch 119/150\n",
            "77/77 [==============================] - 0s 3ms/step - loss: 0.5064 - accuracy: 0.7513\n",
            "Epoch 120/150\n",
            "77/77 [==============================] - 0s 3ms/step - loss: 0.4801 - accuracy: 0.7878\n",
            "Epoch 121/150\n",
            "77/77 [==============================] - 0s 3ms/step - loss: 0.4948 - accuracy: 0.7617\n",
            "Epoch 122/150\n",
            "77/77 [==============================] - 0s 3ms/step - loss: 0.4890 - accuracy: 0.7812\n",
            "Epoch 123/150\n",
            "77/77 [==============================] - 0s 3ms/step - loss: 0.4876 - accuracy: 0.7669\n",
            "Epoch 124/150\n",
            "77/77 [==============================] - 0s 3ms/step - loss: 0.4795 - accuracy: 0.7812\n",
            "Epoch 125/150\n",
            "77/77 [==============================] - 0s 4ms/step - loss: 0.4871 - accuracy: 0.7578\n",
            "Epoch 126/150\n",
            "77/77 [==============================] - 0s 3ms/step - loss: 0.4898 - accuracy: 0.7487\n",
            "Epoch 127/150\n",
            "77/77 [==============================] - 0s 3ms/step - loss: 0.4873 - accuracy: 0.7669\n",
            "Epoch 128/150\n",
            "77/77 [==============================] - 0s 3ms/step - loss: 0.4951 - accuracy: 0.7604\n",
            "Epoch 129/150\n",
            "77/77 [==============================] - 0s 4ms/step - loss: 0.4847 - accuracy: 0.7878\n",
            "Epoch 130/150\n",
            "77/77 [==============================] - 0s 3ms/step - loss: 0.4957 - accuracy: 0.7526\n",
            "Epoch 131/150\n",
            "77/77 [==============================] - 0s 3ms/step - loss: 0.4913 - accuracy: 0.7708\n",
            "Epoch 132/150\n",
            "77/77 [==============================] - 0s 3ms/step - loss: 0.4824 - accuracy: 0.7852\n",
            "Epoch 133/150\n",
            "77/77 [==============================] - 0s 3ms/step - loss: 0.4838 - accuracy: 0.7669\n",
            "Epoch 134/150\n",
            "77/77 [==============================] - 0s 3ms/step - loss: 0.4787 - accuracy: 0.7852\n",
            "Epoch 135/150\n",
            "77/77 [==============================] - 0s 3ms/step - loss: 0.4799 - accuracy: 0.7799\n",
            "Epoch 136/150\n",
            "77/77 [==============================] - 0s 4ms/step - loss: 0.4899 - accuracy: 0.7552\n",
            "Epoch 137/150\n",
            "77/77 [==============================] - 0s 3ms/step - loss: 0.4852 - accuracy: 0.7708\n",
            "Epoch 138/150\n",
            "77/77 [==============================] - 0s 3ms/step - loss: 0.4783 - accuracy: 0.7734\n",
            "Epoch 139/150\n",
            "77/77 [==============================] - 0s 3ms/step - loss: 0.4838 - accuracy: 0.7721\n",
            "Epoch 140/150\n",
            "77/77 [==============================] - 0s 3ms/step - loss: 0.4723 - accuracy: 0.7708\n",
            "Epoch 141/150\n",
            "77/77 [==============================] - 0s 3ms/step - loss: 0.4792 - accuracy: 0.7721\n",
            "Epoch 142/150\n",
            "77/77 [==============================] - 0s 3ms/step - loss: 0.4813 - accuracy: 0.7747\n",
            "Epoch 143/150\n",
            "77/77 [==============================] - 0s 3ms/step - loss: 0.4873 - accuracy: 0.7591\n",
            "Epoch 144/150\n",
            "77/77 [==============================] - 0s 3ms/step - loss: 0.4837 - accuracy: 0.7812\n",
            "Epoch 145/150\n",
            "77/77 [==============================] - 0s 3ms/step - loss: 0.4700 - accuracy: 0.7760\n",
            "Epoch 146/150\n",
            "77/77 [==============================] - 0s 3ms/step - loss: 0.4757 - accuracy: 0.7760\n",
            "Epoch 147/150\n",
            "77/77 [==============================] - 0s 3ms/step - loss: 0.4748 - accuracy: 0.7656\n",
            "Epoch 148/150\n",
            "77/77 [==============================] - 0s 3ms/step - loss: 0.4775 - accuracy: 0.7799\n",
            "Epoch 149/150\n",
            "77/77 [==============================] - 0s 3ms/step - loss: 0.4749 - accuracy: 0.7826\n",
            "Epoch 150/150\n",
            "77/77 [==============================] - 0s 3ms/step - loss: 0.4703 - accuracy: 0.7760\n"
          ]
        },
        {
          "output_type": "execute_result",
          "data": {
            "text/plain": [
              "<keras.callbacks.History at 0x7f516052f690>"
            ]
          },
          "metadata": {},
          "execution_count": 13
        }
      ]
    },
    {
      "cell_type": "code",
      "metadata": {
        "id": "URtjmPgTL1pL",
        "colab": {
          "base_uri": "https://localhost:8080/"
        },
        "outputId": "ed01cc6e-35e0-406f-e466-b0e1059eaf74"
      },
      "source": [
        "#evaluate the model\n",
        "scores = model.evaluate(X, Y)\n",
        "print(\"\\n%s: %.2f%%\" % (model.metrics_names[1], scores[1]*100))"
      ],
      "execution_count": null,
      "outputs": [
        {
          "output_type": "stream",
          "name": "stdout",
          "text": [
            "24/24 [==============================] - 0s 3ms/step - loss: 0.4576 - accuracy: 0.7839\n",
            "\n",
            "accuracy: 78.39%\n"
          ]
        }
      ]
    },
    {
      "cell_type": "code",
      "metadata": {
        "id": "TsaGkV4MVAmE",
        "colab": {
          "base_uri": "https://localhost:8080/"
        },
        "outputId": "64e23755-fb4c-4f68-ec8d-7e062c06dfb0"
      },
      "source": [
        "#print(scores)\n",
        "scores"
      ],
      "execution_count": null,
      "outputs": [
        {
          "output_type": "execute_result",
          "data": {
            "text/plain": [
              "[0.457601398229599, 0.7838541865348816]"
            ]
          },
          "metadata": {},
          "execution_count": 15
        }
      ]
    }
  ]
}