{
  "nbformat": 4,
  "nbformat_minor": 0,
  "metadata": {
    "colab": {
      "name": "Lab 6.ipynb",
      "provenance": [],
      "authorship_tag": "ABX9TyOyXI5NsLvZjescWf/j3yJA",
      "include_colab_link": true
    },
    "kernelspec": {
      "name": "python3",
      "display_name": "Python 3"
    },
    "language_info": {
      "name": "python"
    }
  },
  "cells": [
    {
      "cell_type": "markdown",
      "metadata": {
        "id": "view-in-github",
        "colab_type": "text"
      },
      "source": [
        "<a href=\"https://colab.research.google.com/github/khushboo28sahu/Deep_Learning/blob/main/Lab_6.ipynb\" target=\"_parent\"><img src=\"https://colab.research.google.com/assets/colab-badge.svg\" alt=\"Open In Colab\"/></a>"
      ]
    },
    {
      "cell_type": "code",
      "source": [
        "# importing libraries\n",
        "from keras.datasets import reuters\n",
        "import numpy as np\n",
        "from keras import models\n",
        "from keras import layers\n",
        "import matplotlib.pyplot as plt\n"
      ],
      "metadata": {
        "id": "LZT_1I3lhi-j"
      },
      "execution_count": 16,
      "outputs": []
    },
    {
      "cell_type": "code",
      "source": [
        "# Classifying newswires: a multiclass classification example\n",
        "# The Reuters dataset\n",
        "# Loading the Reuters dataset\n",
        "(train_data, train_labels), (test_data, test_labels) = reuters.load_data(num_words=10000)\n"
      ],
      "metadata": {
        "colab": {
          "base_uri": "https://localhost:8080/"
        },
        "id": "D2X-Ue_Nhg84",
        "outputId": "8ae96a00-8722-4e4c-8973-9809eb612bd9"
      },
      "execution_count": 2,
      "outputs": [
        {
          "output_type": "stream",
          "name": "stdout",
          "text": [
            "Downloading data from https://storage.googleapis.com/tensorflow/tf-keras-datasets/reuters.npz\n",
            "2113536/2110848 [==============================] - 0s 0us/step\n",
            "2121728/2110848 [==============================] - 0s 0us/step\n"
          ]
        }
      ]
    },
    {
      "cell_type": "code",
      "source": [
        "# Checking\n",
        "\n",
        "print(f\"{len(train_data)},{len(test_data)}\")\n"
      ],
      "metadata": {
        "colab": {
          "base_uri": "https://localhost:8080/"
        },
        "id": "PLVRrFhfhubN",
        "outputId": "0d093f41-238e-4e8f-ab9e-6bb05793ab46"
      },
      "execution_count": 4,
      "outputs": [
        {
          "output_type": "stream",
          "name": "stdout",
          "text": [
            "8982,2246\n"
          ]
        }
      ]
    },
    {
      "cell_type": "code",
      "source": [
        "#each example is a list of integers (word indices):\n",
        ">>> train_data[10]"
      ],
      "metadata": {
        "colab": {
          "base_uri": "https://localhost:8080/"
        },
        "id": "N8jiWLRziEVp",
        "outputId": "c08af50c-5549-40a7-9e67-f4d4c7800fe8"
      },
      "execution_count": 5,
      "outputs": [
        {
          "output_type": "execute_result",
          "data": {
            "text/plain": [
              "[1,\n",
              " 245,\n",
              " 273,\n",
              " 207,\n",
              " 156,\n",
              " 53,\n",
              " 74,\n",
              " 160,\n",
              " 26,\n",
              " 14,\n",
              " 46,\n",
              " 296,\n",
              " 26,\n",
              " 39,\n",
              " 74,\n",
              " 2979,\n",
              " 3554,\n",
              " 14,\n",
              " 46,\n",
              " 4689,\n",
              " 4329,\n",
              " 86,\n",
              " 61,\n",
              " 3499,\n",
              " 4795,\n",
              " 14,\n",
              " 61,\n",
              " 451,\n",
              " 4329,\n",
              " 17,\n",
              " 12]"
            ]
          },
          "metadata": {},
          "execution_count": 5
        }
      ]
    },
    {
      "cell_type": "code",
      "source": [
        "# Can you decode newswires back to text?\n",
        "# Preparing the data\n",
        "# Encoding the data\n",
        "def vectorize_sequences(sequences, dimension=10000):\n",
        "\tresults = np.zeros((len(sequences), dimension))\n",
        "\tfor i, sequence in enumerate(sequences):\n",
        "\t\tresults[i, sequence] = 1.\n",
        "\treturn results"
      ],
      "metadata": {
        "id": "f_hRz4MQiNxv"
      },
      "execution_count": 6,
      "outputs": []
    },
    {
      "cell_type": "code",
      "source": [
        "x_train = vectorize_sequences(train_data)\n",
        "x_test = vectorize_sequences(test_data)"
      ],
      "metadata": {
        "id": "idE5DK9HiQQZ"
      },
      "execution_count": 7,
      "outputs": []
    },
    {
      "cell_type": "code",
      "source": [
        "# Note that there is a built-in way to do this in Keras:\n",
        "# from keras.utils.np_utils import to_categorical\n",
        "# one_hot_train_labels = to_categorical(train_labels)\n",
        "# one_hot_test_labels = to_categorical(test_labels)\n",
        "\n",
        "\n",
        "# One hot-encoders\n",
        "def to_one_hot(labels, dimension=46):\n",
        "  results = np.zeros((len(labels), dimension))\n",
        "  for i, label in enumerate(labels):\n",
        "    results[i, label] = 1.\n",
        "  return results\n",
        "\n",
        "one_hot_train_labels = to_one_hot(train_labels)\n",
        "one_hot_test_labels = to_one_hot(test_labels)"
      ],
      "metadata": {
        "id": "ApqQm6nslV7-"
      },
      "execution_count": 11,
      "outputs": []
    },
    {
      "cell_type": "code",
      "source": [
        "# Building your network\n",
        "# Model definition\n",
        "model = models.Sequential()\n",
        "model.add(layers.Dense(64, activation='relu', input_shape=(10000,)))\n",
        "model.add(layers.Dense(64, activation='relu'))\n",
        "model.add(layers.Dense(46, activation='softmax'))"
      ],
      "metadata": {
        "id": "OvRGWIn-kj6p"
      },
      "execution_count": 12,
      "outputs": []
    },
    {
      "cell_type": "code",
      "source": [
        "# Compiling the model\n",
        "model.compile(optimizer='rmsprop',loss='categorical_crossentropy',metrics=['accuracy'])\n"
      ],
      "metadata": {
        "id": "YEZmpTNPks2e"
      },
      "execution_count": 13,
      "outputs": []
    },
    {
      "cell_type": "code",
      "source": [
        "# Validating your approach\n",
        "# Setting aside a validation set\n",
        "x_val = x_train[:1000]\n",
        "partial_x_train = x_train[1000:]\n",
        "y_val = one_hot_train_labels[:1000]\n",
        "partial_y_train = one_hot_train_labels[1000:]"
      ],
      "metadata": {
        "id": "-lQYnDsrkw4A"
      },
      "execution_count": 14,
      "outputs": []
    },
    {
      "cell_type": "code",
      "source": [
        "# Training the model\n",
        "history = model.fit(partial_x_train, partial_y_train, epochs=20, batch_size=512, validation_data=(x_val, y_val))"
      ],
      "metadata": {
        "colab": {
          "base_uri": "https://localhost:8080/"
        },
        "id": "VBGqU3Mck0SH",
        "outputId": "8136ac9f-45ae-4737-99d3-02e5e7cf8a16"
      },
      "execution_count": 15,
      "outputs": [
        {
          "output_type": "stream",
          "name": "stdout",
          "text": [
            "Epoch 1/20\n",
            "16/16 [==============================] - 2s 57ms/step - loss: 2.5924 - accuracy: 0.5583 - val_loss: 1.6781 - val_accuracy: 0.6760\n",
            "Epoch 2/20\n",
            "16/16 [==============================] - 1s 44ms/step - loss: 1.3710 - accuracy: 0.7171 - val_loss: 1.2802 - val_accuracy: 0.7090\n",
            "Epoch 3/20\n",
            "16/16 [==============================] - 1s 44ms/step - loss: 1.0242 - accuracy: 0.7873 - val_loss: 1.1312 - val_accuracy: 0.7600\n",
            "Epoch 4/20\n",
            "16/16 [==============================] - 1s 44ms/step - loss: 0.8099 - accuracy: 0.8301 - val_loss: 1.0591 - val_accuracy: 0.7740\n",
            "Epoch 5/20\n",
            "16/16 [==============================] - 1s 45ms/step - loss: 0.6537 - accuracy: 0.8619 - val_loss: 0.9796 - val_accuracy: 0.8010\n",
            "Epoch 6/20\n",
            "16/16 [==============================] - 1s 44ms/step - loss: 0.5247 - accuracy: 0.8881 - val_loss: 0.9210 - val_accuracy: 0.8140\n",
            "Epoch 7/20\n",
            "16/16 [==============================] - 1s 43ms/step - loss: 0.4240 - accuracy: 0.9113 - val_loss: 0.9024 - val_accuracy: 0.8210\n",
            "Epoch 8/20\n",
            "16/16 [==============================] - 1s 45ms/step - loss: 0.3485 - accuracy: 0.9242 - val_loss: 0.8956 - val_accuracy: 0.8200\n",
            "Epoch 9/20\n",
            "16/16 [==============================] - 1s 44ms/step - loss: 0.2923 - accuracy: 0.9375 - val_loss: 0.8914 - val_accuracy: 0.8120\n",
            "Epoch 10/20\n",
            "16/16 [==============================] - 1s 44ms/step - loss: 0.2410 - accuracy: 0.9453 - val_loss: 0.8999 - val_accuracy: 0.8170\n",
            "Epoch 11/20\n",
            "16/16 [==============================] - 1s 44ms/step - loss: 0.2117 - accuracy: 0.9476 - val_loss: 0.9538 - val_accuracy: 0.8050\n",
            "Epoch 12/20\n",
            "16/16 [==============================] - 1s 45ms/step - loss: 0.1828 - accuracy: 0.9506 - val_loss: 0.9383 - val_accuracy: 0.8150\n",
            "Epoch 13/20\n",
            "16/16 [==============================] - 1s 44ms/step - loss: 0.1687 - accuracy: 0.9515 - val_loss: 0.9746 - val_accuracy: 0.8170\n",
            "Epoch 14/20\n",
            "16/16 [==============================] - 1s 45ms/step - loss: 0.1491 - accuracy: 0.9545 - val_loss: 0.9967 - val_accuracy: 0.8140\n",
            "Epoch 15/20\n",
            "16/16 [==============================] - 1s 44ms/step - loss: 0.1430 - accuracy: 0.9554 - val_loss: 0.9674 - val_accuracy: 0.8200\n",
            "Epoch 16/20\n",
            "16/16 [==============================] - 1s 44ms/step - loss: 0.1357 - accuracy: 0.9562 - val_loss: 1.0049 - val_accuracy: 0.8040\n",
            "Epoch 17/20\n",
            "16/16 [==============================] - 1s 44ms/step - loss: 0.1221 - accuracy: 0.9578 - val_loss: 1.0104 - val_accuracy: 0.7980\n",
            "Epoch 18/20\n",
            "16/16 [==============================] - 1s 44ms/step - loss: 0.1197 - accuracy: 0.9575 - val_loss: 1.0890 - val_accuracy: 0.7980\n",
            "Epoch 19/20\n",
            "16/16 [==============================] - 1s 44ms/step - loss: 0.1204 - accuracy: 0.9582 - val_loss: 1.0756 - val_accuracy: 0.7990\n",
            "Epoch 20/20\n",
            "16/16 [==============================] - 1s 43ms/step - loss: 0.1134 - accuracy: 0.9565 - val_loss: 1.0870 - val_accuracy: 0.8070\n"
          ]
        }
      ]
    },
    {
      "cell_type": "code",
      "source": [
        "# Plotting the training and validation loss\n",
        "loss = history.history['loss']\n",
        "val_loss = history.history['val_loss']\n",
        "epochs = range(1, len(loss) + 1)\n",
        "plt.plot(epochs, loss, 'bo', label='Training loss')\n",
        "plt.plot(epochs, val_loss, 'b', label='Validation loss')\n",
        "plt.title('Training and validation loss')\n",
        "plt.xlabel('Epochs')\n",
        "plt.ylabel('Loss')\n",
        "plt.legend()\n",
        "plt.show()"
      ],
      "metadata": {
        "colab": {
          "base_uri": "https://localhost:8080/",
          "height": 295
        },
        "id": "4dJ9po7HmAKq",
        "outputId": "e4e38122-521d-43e9-8a96-7ed7bf7fb448"
      },
      "execution_count": 17,
      "outputs": [
        {
          "output_type": "display_data",
          "data": {
            "image/png": "[encoded data removed]",
            "text/plain": [
              "<Figure size 432x288 with 1 Axes>"
            ]
          },
          "metadata": {
            "needs_background": "light"
          }
        }
      ]
    },
    {
      "cell_type": "code",
      "source": [
        "# Plotting the training and validation accuracy\n",
        "plt.clf()\n",
        "acc = history.history['accuracy']\n",
        "val_acc = history.history['val_accuracy']\n",
        "plt.plot(epochs, acc, 'bo', label='Training acc')\n",
        "plt.plot(epochs, val_acc, 'b', label='Validation acc')\n",
        "plt.title('Training and validation accuracy')\n",
        "plt.xlabel('Epochs')\n",
        "plt.ylabel('Accuracy')\n",
        "plt.legend()\n",
        "plt.show()"
      ],
      "metadata": {
        "colab": {
          "base_uri": "https://localhost:8080/",
          "height": 295
        },
        "id": "d6W2UwU1mHVy",
        "outputId": "8994d808-7cd1-4cc1-f20f-49c5db2c7645"
      },
      "execution_count": 20,
      "outputs": [
        {
          "output_type": "display_data",
          "data": {
            "image/png": "[encoded data removed]",
            "text/plain": [
              "<Figure size 432x288 with 1 Axes>"
            ]
          },
          "metadata": {
            "needs_background": "light"
          }
        }
      ]
    },
    {
      "cell_type": "code",
      "source": [
        "# Retraining a model from scratch\n",
        "model = models.Sequential()\n",
        "model.add(layers.Dense(64, activation='relu', input_shape=(10000,)))\n",
        "model.add(layers.Dense(64, activation='relu'))\n",
        "model.add(layers.Dense(46, activation='softmax'))\n",
        "model.compile(optimizer='rmsprop', loss='categorical_crossentropy', metrics=['accuracy'])\n",
        "model.fit(partial_x_train, partial_y_train, epochs=9, batch_size=512, validation_data=(x_val, y_val))\n",
        "results = model.evaluate(x_test, one_hot_test_labels)\n"
      ],
      "metadata": {
        "colab": {
          "base_uri": "https://localhost:8080/"
        },
        "id": "k5fIImWhmmC-",
        "outputId": "4e5168a8-4fbe-4ef8-c06d-e6f7f6cecc27"
      },
      "execution_count": 21,
      "outputs": [
        {
          "output_type": "stream",
          "name": "stdout",
          "text": [
            "Epoch 1/9\n",
            "16/16 [==============================] - 1s 54ms/step - loss: 2.6393 - accuracy: 0.5327 - val_loss: 1.7073 - val_accuracy: 0.6410\n",
            "Epoch 2/9\n",
            "16/16 [==============================] - 1s 44ms/step - loss: 1.4026 - accuracy: 0.7036 - val_loss: 1.3082 - val_accuracy: 0.7210\n",
            "Epoch 3/9\n",
            "16/16 [==============================] - 1s 43ms/step - loss: 1.0380 - accuracy: 0.7765 - val_loss: 1.1308 - val_accuracy: 0.7480\n",
            "Epoch 4/9\n",
            "16/16 [==============================] - 1s 44ms/step - loss: 0.8191 - accuracy: 0.8235 - val_loss: 1.0216 - val_accuracy: 0.7760\n",
            "Epoch 5/9\n",
            "16/16 [==============================] - 1s 44ms/step - loss: 0.6532 - accuracy: 0.8634 - val_loss: 0.9832 - val_accuracy: 0.7860\n",
            "Epoch 6/9\n",
            "16/16 [==============================] - 1s 44ms/step - loss: 0.5223 - accuracy: 0.8936 - val_loss: 0.9229 - val_accuracy: 0.8110\n",
            "Epoch 7/9\n",
            "16/16 [==============================] - 1s 44ms/step - loss: 0.4190 - accuracy: 0.9166 - val_loss: 0.9086 - val_accuracy: 0.8110\n",
            "Epoch 8/9\n",
            "16/16 [==============================] - 1s 44ms/step - loss: 0.3413 - accuracy: 0.9322 - val_loss: 0.9101 - val_accuracy: 0.8010\n",
            "Epoch 9/9\n",
            "16/16 [==============================] - 1s 44ms/step - loss: 0.2790 - accuracy: 0.9419 - val_loss: 0.8947 - val_accuracy: 0.8140\n",
            "71/71 [==============================] - 0s 2ms/step - loss: 0.9821 - accuracy: 0.7876\n"
          ]
        }
      ]
    },
    {
      "cell_type": "code",
      "source": [
        "# Checking\n",
        ">>> results\n"
      ],
      "metadata": {
        "colab": {
          "base_uri": "https://localhost:8080/"
        },
        "id": "pYX2jJevmtxg",
        "outputId": "42b149f1-a6bc-452f-e4da-ce95ce2f811b"
      },
      "execution_count": 22,
      "outputs": [
        {
          "output_type": "execute_result",
          "data": {
            "text/plain": [
              "[0.9820802211761475, 0.7876224517822266]"
            ]
          },
          "metadata": {},
          "execution_count": 22
        }
      ]
    },
    {
      "cell_type": "code",
      "source": [
        "# Generating predictions on new data\n",
        "predictions = model.predict(x_test)\n"
      ],
      "metadata": {
        "id": "Mm_MpzHYmzqt"
      },
      "execution_count": 23,
      "outputs": []
    },
    {
      "cell_type": "code",
      "source": [
        "# Each entry in predictions is a vector of length 46:\n",
        ">>> predictions[0].shape"
      ],
      "metadata": {
        "colab": {
          "base_uri": "https://localhost:8080/"
        },
        "id": "s4Md0t87m7CV",
        "outputId": "22aaaaf7-46ac-4937-ae72-15af93ee8e5d"
      },
      "execution_count": 24,
      "outputs": [
        {
          "output_type": "execute_result",
          "data": {
            "text/plain": [
              "(46,)"
            ]
          },
          "metadata": {},
          "execution_count": 24
        }
      ]
    },
    {
      "cell_type": "code",
      "source": [
        "#The coefficients in this vector sum to 1:\n",
        ">>> np.sum(predictions[0])"
      ],
      "metadata": {
        "colab": {
          "base_uri": "https://localhost:8080/"
        },
        "id": "Vtkl4_VKm_ZR",
        "outputId": "e8249512-1574-40af-9ff1-938c524bc24f"
      },
      "execution_count": 25,
      "outputs": [
        {
          "output_type": "execute_result",
          "data": {
            "text/plain": [
              "0.9999999"
            ]
          },
          "metadata": {},
          "execution_count": 25
        }
      ]
    },
    {
      "cell_type": "code",
      "source": [
        "# The largest entry is the predicted class—the class with the highest probability:\n",
        ">>> np.argmax(predictions[0])"
      ],
      "metadata": {
        "colab": {
          "base_uri": "https://localhost:8080/"
        },
        "id": "pRf1vR0cnED0",
        "outputId": "88d1e2f9-c6ad-4c4e-ee48-fb2d7f07c40b"
      },
      "execution_count": 26,
      "outputs": [
        {
          "output_type": "execute_result",
          "data": {
            "text/plain": [
              "3"
            ]
          },
          "metadata": {},
          "execution_count": 26
        }
      ]
    },
    {
      "cell_type": "code",
      "execution_count": 27,
      "metadata": {
        "colab": {
          "base_uri": "https://localhost:8080/"
        },
        "id": "gbWkye5whbcN",
        "outputId": "5473c9a6-4883-4bc4-d6a0-4d6394686bb0"
      },
      "outputs": [
        {
          "output_type": "stream",
          "name": "stdout",
          "text": [
            "Epoch 1/20\n",
            "63/63 [==============================] - 2s 18ms/step - loss: 3.6129 - accuracy: 0.1622 - val_loss: 3.3987 - val_accuracy: 0.1250\n",
            "Epoch 2/20\n",
            "63/63 [==============================] - 1s 15ms/step - loss: 3.1224 - accuracy: 0.1696 - val_loss: 2.8365 - val_accuracy: 0.1490\n",
            "Epoch 3/20\n",
            "63/63 [==============================] - 1s 15ms/step - loss: 2.5628 - accuracy: 0.3918 - val_loss: 2.4469 - val_accuracy: 0.3900\n",
            "Epoch 4/20\n",
            "63/63 [==============================] - 1s 15ms/step - loss: 2.2865 - accuracy: 0.3735 - val_loss: 2.2278 - val_accuracy: 0.3730\n",
            "Epoch 5/20\n",
            "63/63 [==============================] - 1s 15ms/step - loss: 2.0300 - accuracy: 0.3789 - val_loss: 1.9972 - val_accuracy: 0.3810\n",
            "Epoch 6/20\n",
            "63/63 [==============================] - 1s 15ms/step - loss: 1.7558 - accuracy: 0.4139 - val_loss: 1.7493 - val_accuracy: 0.5210\n",
            "Epoch 7/20\n",
            "63/63 [==============================] - 1s 15ms/step - loss: 1.4775 - accuracy: 0.5988 - val_loss: 1.5498 - val_accuracy: 0.6250\n",
            "Epoch 8/20\n",
            "63/63 [==============================] - 1s 15ms/step - loss: 1.2496 - accuracy: 0.6793 - val_loss: 1.4539 - val_accuracy: 0.6670\n",
            "Epoch 9/20\n",
            "63/63 [==============================] - 1s 15ms/step - loss: 1.1023 - accuracy: 0.7253 - val_loss: 1.4086 - val_accuracy: 0.6840\n",
            "Epoch 10/20\n",
            "63/63 [==============================] - 1s 15ms/step - loss: 0.9952 - accuracy: 0.7553 - val_loss: 1.3852 - val_accuracy: 0.6910\n",
            "Epoch 11/20\n",
            "63/63 [==============================] - 1s 15ms/step - loss: 0.9106 - accuracy: 0.7709 - val_loss: 1.3762 - val_accuracy: 0.7070\n",
            "Epoch 12/20\n",
            "63/63 [==============================] - 1s 15ms/step - loss: 0.8398 - accuracy: 0.7840 - val_loss: 1.3933 - val_accuracy: 0.7060\n",
            "Epoch 13/20\n",
            "63/63 [==============================] - 1s 15ms/step - loss: 0.7764 - accuracy: 0.8018 - val_loss: 1.4294 - val_accuracy: 0.7040\n",
            "Epoch 14/20\n",
            "63/63 [==============================] - 1s 15ms/step - loss: 0.7194 - accuracy: 0.8218 - val_loss: 1.4462 - val_accuracy: 0.7180\n",
            "Epoch 15/20\n",
            "63/63 [==============================] - 1s 15ms/step - loss: 0.6651 - accuracy: 0.8400 - val_loss: 1.4801 - val_accuracy: 0.7180\n",
            "Epoch 16/20\n",
            "63/63 [==============================] - 1s 15ms/step - loss: 0.6223 - accuracy: 0.8492 - val_loss: 1.5128 - val_accuracy: 0.7190\n",
            "Epoch 17/20\n",
            "63/63 [==============================] - 1s 15ms/step - loss: 0.5793 - accuracy: 0.8527 - val_loss: 1.5576 - val_accuracy: 0.7190\n",
            "Epoch 18/20\n",
            "63/63 [==============================] - 1s 15ms/step - loss: 0.5429 - accuracy: 0.8598 - val_loss: 1.6137 - val_accuracy: 0.7160\n",
            "Epoch 19/20\n",
            "63/63 [==============================] - 1s 15ms/step - loss: 0.5102 - accuracy: 0.8648 - val_loss: 1.6592 - val_accuracy: 0.7220\n",
            "Epoch 20/20\n",
            "63/63 [==============================] - 1s 15ms/step - loss: 0.4831 - accuracy: 0.8691 - val_loss: 1.7404 - val_accuracy: 0.7190\n"
          ]
        },
        {
          "output_type": "execute_result",
          "data": {
            "text/plain": [
              "<keras.callbacks.History at 0x7f8a80cff650>"
            ]
          },
          "metadata": {},
          "execution_count": 27
        }
      ],
      "source": [
        "\n",
        "# The importance of having sufficiently large intermediate layers\n",
        "# We mentioned earlier that because the final outputs are 46-dimensional, you should\n",
        "# avoid intermediate layers with many fewer than 46 hidden units. Now let’s see what\n",
        "# happens when you introduce an information bottleneck by having intermediate layers\n",
        "# that are significantly less than 46-dimensional: for example, 4-dimensional. Perform \n",
        "# the following and check what is the accuracy of the model?\n",
        "\n",
        "model = models.Sequential()\n",
        "model.add(layers.Dense(64, activation='relu', input_shape=(10000,)))\n",
        "model.add(layers.Dense(4, activation='relu'))\n",
        "model.add(layers.Dense(46, activation='softmax'))\n",
        "model.compile(optimizer='rmsprop', loss='categorical_crossentropy', metrics=['accuracy'])\n",
        "model.fit(partial_x_train, partial_y_train, epochs=20, batch_size=128, validation_data=(x_val, y_val))"
      ]
    },
    {
      "cell_type": "code",
      "source": [
        ""
      ],
      "metadata": {
        "id": "rPm0Xf-MneCk"
      },
      "execution_count": null,
      "outputs": []
    }
  ]
}